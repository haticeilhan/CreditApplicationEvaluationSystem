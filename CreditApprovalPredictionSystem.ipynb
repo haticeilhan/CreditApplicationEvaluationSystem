{
 "cells": [
  {
   "cell_type": "code",
   "execution_count": 3,
   "id": "ff7864ed-1d2e-4580-8981-2a52469eaabd",
   "metadata": {},
   "outputs": [
    {
     "name": "stdin",
     "output_type": "stream",
     "text": [
      "Yaşınızı girin:  35\n",
      "Kredi puanınızı girin:  800\n",
      "Tenür (yıl) girin:  12\n",
      "Bakiye girin:  100000\n",
      "Ürün sayısını girin:  1\n",
      "Kredi kartı var mı? (1: Evet, 0: Hayır):  1\n",
      "Aktif üye misiniz? (1: Evet, 0: Hayır):  1\n",
      "Tahmini maaşınızı girin:  100000\n"
     ]
    },
    {
     "name": "stdout",
     "output_type": "stream",
     "text": [
      "Kredi başvurunuz onaylanabilir.\n"
     ]
    }
   ],
   "source": [
    "import pandas as pd\n",
    "from sklearn.preprocessing import StandardScaler, OneHotEncoder\n",
    "from sklearn.compose import ColumnTransformer\n",
    "from sklearn.pipeline import Pipeline\n",
    "from sklearn.ensemble import RandomForestClassifier\n",
    "\n",
    "\n",
    "df = pd.read_csv(\"Churn_Modelling.csv\")\n",
    "\n",
    "df = df.drop('Gender', axis = 1)\n",
    "df = df.drop('Geography', axis = 1)\n",
    "\n",
    "X = df.drop('Exited', axis=1)  \n",
    "y = df['Exited']  \n",
    "\n",
    "numerical_columns = ['CreditScore', 'Age', 'Tenure', 'Balance', 'NumOfProducts', 'HasCrCard', 'IsActiveMember', 'EstimatedSalary']\n",
    "\n",
    "numerical_transformer = StandardScaler()\n",
    "\n",
    "preprocessor = ColumnTransformer(\n",
    "    transformers=[\n",
    "        ('num', numerical_transformer, numerical_columns),\n",
    "    ])\n",
    "\n",
    "model = Pipeline(steps=[\n",
    "    ('preprocessor', preprocessor),\n",
    "    ('classifier', RandomForestClassifier())\n",
    "])\n",
    "\n",
    "model.fit(X, y)\n",
    "\n",
    "def kullanici_verisi_al():\n",
    "    age = float(input(\"Yaşınızı girin: \"))\n",
    "    credit_score = float(input(\"Kredi puanınızı girin: \"))\n",
    "    tenure = int(input(\"Tenür (yıl) girin: \"))\n",
    "    balance = float(input(\"Bakiye girin: \"))\n",
    "    num_of_products = int(input(\"Ürün sayısını girin: \"))\n",
    "    has_cr_card = int(input(\"Kredi kartı var mı? (1: Evet, 0: Hayır): \"))\n",
    "    is_active_member = int(input(\"Aktif üye misiniz? (1: Evet, 0: Hayır): \"))\n",
    "    estimated_salary = float(input(\"Tahmini maaşınızı girin: \"))\n",
    "    \n",
    "    user_data = pd.DataFrame([[age, credit_score, tenure, balance, num_of_products, has_cr_card, is_active_member, estimated_salary]],\n",
    "                             columns=['Age', 'CreditScore', 'Tenure', 'Balance', 'NumOfProducts', 'HasCrCard', 'IsActiveMember', 'EstimatedSalary'])\n",
    "\n",
    "    user_data_scaled = model.named_steps['preprocessor'].transform(user_data)\n",
    "\n",
    "    prediction = model.named_steps['classifier'].predict(user_data_scaled)\n",
    "    \n",
    "    if prediction > 0.5:\n",
    "        print(\"Kredi başvurunuz reddedilebilir.\")\n",
    "    else:\n",
    "        print(\"Kredi başvurunuz onaylanabilir.\")\n",
    "\n",
    "kullanici_verisi_al()"
   ]
  },
  {
   "cell_type": "code",
   "execution_count": null,
   "id": "79e6041a-0cc1-436f-9dad-f8f4636d982d",
   "metadata": {},
   "outputs": [],
   "source": []
  }
 ],
 "metadata": {
  "kernelspec": {
   "display_name": "Python (TensorFlow)",
   "language": "python",
   "name": "tensorflow"
  },
  "language_info": {
   "codemirror_mode": {
    "name": "ipython",
    "version": 3
   },
   "file_extension": ".py",
   "mimetype": "text/x-python",
   "name": "python",
   "nbconvert_exporter": "python",
   "pygments_lexer": "ipython3",
   "version": "3.11.8"
  }
 },
 "nbformat": 4,
 "nbformat_minor": 5
}
